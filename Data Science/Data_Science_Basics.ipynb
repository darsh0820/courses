{
  "nbformat": 4,
  "nbformat_minor": 0,
  "metadata": {
    "colab": {
      "provenance": [],
      "toc_visible": true,
      "authorship_tag": "ABX9TyMrDL7sWXvfXU3/a1BOVsU9",
      "include_colab_link": true
    },
    "kernelspec": {
      "name": "python3",
      "display_name": "Python 3"
    },
    "language_info": {
      "name": "python"
    }
  },
  "cells": [
    {
      "cell_type": "markdown",
      "metadata": {
        "id": "view-in-github",
        "colab_type": "text"
      },
      "source": [
        "<a href=\"https://colab.research.google.com/github/darsh0820/courses/blob/main/Data%20Science/Data_Science_Basics.ipynb\" target=\"_parent\"><img src=\"https://colab.research.google.com/assets/colab-badge.svg\" alt=\"Open In Colab\"/></a>"
      ]
    },
    {
      "cell_type": "markdown",
      "source": [
        "# Introduction to Data Science"
      ],
      "metadata": {
        "id": "0rWftB5laGfw"
      }
    },
    {
      "cell_type": "markdown",
      "source": [
        "##Pandas"
      ],
      "metadata": {
        "id": "r6sf0vCFOG8U"
      }
    },
    {
      "cell_type": "markdown",
      "source": [
        "**Pandas** library to read csv files.\n"
      ],
      "metadata": {
        "id": "SwDaK9torNBP"
      }
    },
    {
      "cell_type": "code",
      "execution_count": null,
      "metadata": {
        "colab": {
          "base_uri": "https://localhost:8080/"
        },
        "id": "EWWGsK5ihS4F",
        "outputId": "26210102-e57b-435d-eaec-18d86b3c84cc"
      },
      "outputs": [
        {
          "output_type": "stream",
          "name": "stdout",
          "text": [
            "      longitude  latitude  housing_median_age  total_rooms  total_bedrooms  \\\n",
            "0       -122.05     37.37                27.0       3885.0           661.0   \n",
            "1       -118.30     34.26                43.0       1510.0           310.0   \n",
            "2       -117.81     33.78                27.0       3589.0           507.0   \n",
            "3       -118.36     33.82                28.0         67.0            15.0   \n",
            "4       -119.67     36.33                19.0       1241.0           244.0   \n",
            "...         ...       ...                 ...          ...             ...   \n",
            "2995    -119.86     34.42                23.0       1450.0           642.0   \n",
            "2996    -118.14     34.06                27.0       5257.0          1082.0   \n",
            "2997    -119.70     36.30                10.0        956.0           201.0   \n",
            "2998    -117.12     34.10                40.0         96.0            14.0   \n",
            "2999    -119.63     34.42                42.0       1765.0           263.0   \n",
            "\n",
            "      population  households  median_income  median_house_value  \n",
            "0         1537.0       606.0         6.6085            344700.0  \n",
            "1          809.0       277.0         3.5990            176500.0  \n",
            "2         1484.0       495.0         5.7934            270500.0  \n",
            "3           49.0        11.0         6.1359            330000.0  \n",
            "4          850.0       237.0         2.9375             81700.0  \n",
            "...          ...         ...            ...                 ...  \n",
            "2995      1258.0       607.0         1.1790            225000.0  \n",
            "2996      3496.0      1036.0         3.3906            237200.0  \n",
            "2997       693.0       220.0         2.2895             62000.0  \n",
            "2998        46.0        14.0         3.2708            162500.0  \n",
            "2999       753.0       260.0         8.5608            500001.0  \n",
            "\n",
            "[3000 rows x 9 columns]\n"
          ]
        }
      ],
      "source": [
        "import pandas\n",
        "file  = pandas.read_csv(\"sample_data/california_housing_test.csv\")\n",
        "print(file)"
      ]
    },
    {
      "cell_type": "markdown",
      "source": [
        "##head()"
      ],
      "metadata": {
        "id": "tJl1741gOMK_"
      }
    },
    {
      "cell_type": "markdown",
      "source": [
        "`head()` function in pandas library. Skip this code execution to run the next code.\n"
      ],
      "metadata": {
        "id": "5RSs5svxqy0Q"
      }
    },
    {
      "cell_type": "code",
      "source": [
        "# First n data rows:-\n",
        "file = file.head(5)\n",
        "print(file)"
      ],
      "metadata": {
        "id": "fjC99T3jqGLm"
      },
      "execution_count": null,
      "outputs": []
    },
    {
      "cell_type": "markdown",
      "source": [
        "##iloc[]"
      ],
      "metadata": {
        "id": "5q5PfOhLOPMT"
      }
    },
    {
      "cell_type": "markdown",
      "source": [
        "`iloc[]` method for getting data of specified range. Skip this code execution to run next code."
      ],
      "metadata": {
        "id": "bkIGx7hhrdDD"
      }
    },
    {
      "cell_type": "code",
      "source": [
        "# Data rows in the specified range(last index excluded)\n",
        "file = file.iloc[100:115]\n",
        "print(file)"
      ],
      "metadata": {
        "colab": {
          "base_uri": "https://localhost:8080/"
        },
        "id": "5z6FpDTdqNd5",
        "outputId": "edf77185-e9e4-41c5-d8d6-f54d6a3c9487"
      },
      "execution_count": null,
      "outputs": [
        {
          "output_type": "stream",
          "name": "stdout",
          "text": [
            "     longitude  latitude  housing_median_age  total_rooms  total_bedrooms  \\\n",
            "100    -118.30     34.02                49.0       2120.0           483.0   \n",
            "101    -122.23     37.79                43.0       5963.0          1344.0   \n",
            "102    -121.31     38.62                31.0       3114.0           430.0   \n",
            "103    -117.25     32.80                35.0       2281.0           506.0   \n",
            "104    -118.26     33.99                36.0       2016.0           505.0   \n",
            "105    -119.39     36.54                34.0       1590.0           422.0   \n",
            "106    -121.51     38.52                30.0       3236.0           588.0   \n",
            "107    -119.18     34.27                 6.0       2307.0           386.0   \n",
            "108    -118.18     33.77                30.0       1418.0           439.0   \n",
            "109    -122.43     37.74                52.0       1514.0           314.0   \n",
            "110    -117.93     33.91                24.0       1698.0           297.0   \n",
            "111    -124.16     40.77                35.0       2141.0           438.0   \n",
            "112    -117.95     33.63                27.0       2489.0           481.0   \n",
            "113    -118.05     34.10                36.0       1606.0           318.0   \n",
            "114    -116.97     32.81                19.0       1573.0           471.0   \n",
            "\n",
            "     population  households  median_income  median_house_value  \n",
            "100      1522.0       416.0         1.8500            116800.0  \n",
            "101      4367.0      1231.0         2.1917            112800.0  \n",
            "102      1121.0       456.0         6.2440            240000.0  \n",
            "103      1005.0       496.0         4.2296            275000.0  \n",
            "104      1807.0       464.0         1.6901            103500.0  \n",
            "105      1272.0       407.0         1.8068             59000.0  \n",
            "106      1167.0       569.0         4.0972            181400.0  \n",
            "107       910.0       364.0         5.2150            279500.0  \n",
            "108       720.0       417.0         2.6371            159400.0  \n",
            "109       724.0       301.0         5.3292            300900.0  \n",
            "110       676.0       273.0         5.2017            364600.0  \n",
            "111      1053.0       434.0         2.8529             85600.0  \n",
            "112      1082.0       443.0         5.8777            358800.0  \n",
            "113       889.0       294.0         4.7931            272600.0  \n",
            "114       844.0       414.0         2.1422            125000.0  \n"
          ]
        }
      ]
    },
    {
      "cell_type": "markdown",
      "source": [
        "##Filtering DataFrames"
      ],
      "metadata": {
        "id": "dqGGnOHaOS2i"
      }
    },
    {
      "cell_type": "markdown",
      "source": [
        "**Filtering the dataframes** to obtain specific data."
      ],
      "metadata": {
        "id": "p-UlmpgwsZgI"
      }
    },
    {
      "cell_type": "markdown",
      "source": [
        "Stepwise filtering.(Skip this code execution to run next)"
      ],
      "metadata": {
        "id": "xLqFLrpzw2RH"
      }
    },
    {
      "cell_type": "code",
      "source": [
        "# 1. Specific column\n",
        "file[\"total_bedrooms\"]\n",
        "\n",
        "# 2. Specific column with specific values(conditionals, returns true/false\n",
        "#    for those columns)\n",
        "file[\"total_bedrooms\"]>1000\n",
        "\n",
        "# 3. Using the filter to only get the filtered data\n",
        "filter = file[\"total_bedrooms\"] > 2500\n",
        "file[filter]"
      ],
      "metadata": {
        "id": "rpr13VQrwxCH"
      },
      "execution_count": null,
      "outputs": []
    },
    {
      "cell_type": "markdown",
      "source": [
        "The above steps can be compiled into the following."
      ],
      "metadata": {
        "id": "JlWr_mQAw9tg"
      }
    },
    {
      "cell_type": "code",
      "source": [
        "file[file[\"total_bedrooms\"]>2600]"
      ],
      "metadata": {
        "colab": {
          "base_uri": "https://localhost:8080/"
        },
        "id": "3hHckImiqR0K",
        "outputId": "8586565c-fc2b-4fcb-efe8-b647d5454b3f"
      },
      "execution_count": null,
      "outputs": [
        {
          "output_type": "execute_result",
          "data": {
            "text/plain": [
              "      longitude  latitude  housing_median_age  total_rooms  total_bedrooms  \\\n",
              "33      -118.08     34.55                 5.0      16181.0          2971.0   \n",
              "292     -116.36     33.78                 6.0      24121.0          4522.0   \n",
              "321     -121.73     37.68                17.0      20354.0          3493.0   \n",
              "900     -117.22     32.95                 4.0      18123.0          3173.0   \n",
              "978     -121.53     38.48                 5.0      27870.0          5027.0   \n",
              "1146    -117.27     33.15                 4.0      23915.0          4135.0   \n",
              "1283    -117.18     32.92                 4.0      15025.0          2616.0   \n",
              "1563    -118.44     33.98                21.0      18132.0          5419.0   \n",
              "1597    -117.12     33.49                 4.0      21988.0          4055.0   \n",
              "1976    -117.70     33.48                 6.0      16590.0          2696.0   \n",
              "2014    -117.22     32.86                 4.0      16289.0          4585.0   \n",
              "2429    -117.20     33.58                 2.0      30450.0          5033.0   \n",
              "2452    -117.64     33.87                 2.0      17470.0          2727.0   \n",
              "\n",
              "      population  households  median_income  median_house_value  \n",
              "33        8152.0      2651.0         4.5237            141800.0  \n",
              "292       4176.0      2221.0         3.3799            239300.0  \n",
              "321       8768.0      3293.0         5.4496            238900.0  \n",
              "900       7301.0      2964.0         6.3570            322500.0  \n",
              "978      11935.0      4855.0         4.8811            212200.0  \n",
              "1146     10877.0      3958.0         4.6357            244900.0  \n",
              "1283      7560.0      2392.0         5.1960            210700.0  \n",
              "1563      7431.0      4930.0         5.3359            500001.0  \n",
              "1597      8824.0      3252.0         3.9963            191100.0  \n",
              "1976      6223.0      2357.0         6.3088            340300.0  \n",
              "2014      7604.0      4176.0         3.6287            280800.0  \n",
              "2429      9419.0      3197.0         4.5936            174300.0  \n",
              "2452      5964.0      1985.0         6.2308            257900.0  "
            ],
            "text/html": [
              "\n",
              "  <div id=\"df-7387a402-a62a-4772-aa1c-18ee92ca7056\" class=\"colab-df-container\">\n",
              "    <div>\n",
              "<style scoped>\n",
              "    .dataframe tbody tr th:only-of-type {\n",
              "        vertical-align: middle;\n",
              "    }\n",
              "\n",
              "    .dataframe tbody tr th {\n",
              "        vertical-align: top;\n",
              "    }\n",
              "\n",
              "    .dataframe thead th {\n",
              "        text-align: right;\n",
              "    }\n",
              "</style>\n",
              "<table border=\"1\" class=\"dataframe\">\n",
              "  <thead>\n",
              "    <tr style=\"text-align: right;\">\n",
              "      <th></th>\n",
              "      <th>longitude</th>\n",
              "      <th>latitude</th>\n",
              "      <th>housing_median_age</th>\n",
              "      <th>total_rooms</th>\n",
              "      <th>total_bedrooms</th>\n",
              "      <th>population</th>\n",
              "      <th>households</th>\n",
              "      <th>median_income</th>\n",
              "      <th>median_house_value</th>\n",
              "    </tr>\n",
              "  </thead>\n",
              "  <tbody>\n",
              "    <tr>\n",
              "      <th>33</th>\n",
              "      <td>-118.08</td>\n",
              "      <td>34.55</td>\n",
              "      <td>5.0</td>\n",
              "      <td>16181.0</td>\n",
              "      <td>2971.0</td>\n",
              "      <td>8152.0</td>\n",
              "      <td>2651.0</td>\n",
              "      <td>4.5237</td>\n",
              "      <td>141800.0</td>\n",
              "    </tr>\n",
              "    <tr>\n",
              "      <th>292</th>\n",
              "      <td>-116.36</td>\n",
              "      <td>33.78</td>\n",
              "      <td>6.0</td>\n",
              "      <td>24121.0</td>\n",
              "      <td>4522.0</td>\n",
              "      <td>4176.0</td>\n",
              "      <td>2221.0</td>\n",
              "      <td>3.3799</td>\n",
              "      <td>239300.0</td>\n",
              "    </tr>\n",
              "    <tr>\n",
              "      <th>321</th>\n",
              "      <td>-121.73</td>\n",
              "      <td>37.68</td>\n",
              "      <td>17.0</td>\n",
              "      <td>20354.0</td>\n",
              "      <td>3493.0</td>\n",
              "      <td>8768.0</td>\n",
              "      <td>3293.0</td>\n",
              "      <td>5.4496</td>\n",
              "      <td>238900.0</td>\n",
              "    </tr>\n",
              "    <tr>\n",
              "      <th>900</th>\n",
              "      <td>-117.22</td>\n",
              "      <td>32.95</td>\n",
              "      <td>4.0</td>\n",
              "      <td>18123.0</td>\n",
              "      <td>3173.0</td>\n",
              "      <td>7301.0</td>\n",
              "      <td>2964.0</td>\n",
              "      <td>6.3570</td>\n",
              "      <td>322500.0</td>\n",
              "    </tr>\n",
              "    <tr>\n",
              "      <th>978</th>\n",
              "      <td>-121.53</td>\n",
              "      <td>38.48</td>\n",
              "      <td>5.0</td>\n",
              "      <td>27870.0</td>\n",
              "      <td>5027.0</td>\n",
              "      <td>11935.0</td>\n",
              "      <td>4855.0</td>\n",
              "      <td>4.8811</td>\n",
              "      <td>212200.0</td>\n",
              "    </tr>\n",
              "    <tr>\n",
              "      <th>1146</th>\n",
              "      <td>-117.27</td>\n",
              "      <td>33.15</td>\n",
              "      <td>4.0</td>\n",
              "      <td>23915.0</td>\n",
              "      <td>4135.0</td>\n",
              "      <td>10877.0</td>\n",
              "      <td>3958.0</td>\n",
              "      <td>4.6357</td>\n",
              "      <td>244900.0</td>\n",
              "    </tr>\n",
              "    <tr>\n",
              "      <th>1283</th>\n",
              "      <td>-117.18</td>\n",
              "      <td>32.92</td>\n",
              "      <td>4.0</td>\n",
              "      <td>15025.0</td>\n",
              "      <td>2616.0</td>\n",
              "      <td>7560.0</td>\n",
              "      <td>2392.0</td>\n",
              "      <td>5.1960</td>\n",
              "      <td>210700.0</td>\n",
              "    </tr>\n",
              "    <tr>\n",
              "      <th>1563</th>\n",
              "      <td>-118.44</td>\n",
              "      <td>33.98</td>\n",
              "      <td>21.0</td>\n",
              "      <td>18132.0</td>\n",
              "      <td>5419.0</td>\n",
              "      <td>7431.0</td>\n",
              "      <td>4930.0</td>\n",
              "      <td>5.3359</td>\n",
              "      <td>500001.0</td>\n",
              "    </tr>\n",
              "    <tr>\n",
              "      <th>1597</th>\n",
              "      <td>-117.12</td>\n",
              "      <td>33.49</td>\n",
              "      <td>4.0</td>\n",
              "      <td>21988.0</td>\n",
              "      <td>4055.0</td>\n",
              "      <td>8824.0</td>\n",
              "      <td>3252.0</td>\n",
              "      <td>3.9963</td>\n",
              "      <td>191100.0</td>\n",
              "    </tr>\n",
              "    <tr>\n",
              "      <th>1976</th>\n",
              "      <td>-117.70</td>\n",
              "      <td>33.48</td>\n",
              "      <td>6.0</td>\n",
              "      <td>16590.0</td>\n",
              "      <td>2696.0</td>\n",
              "      <td>6223.0</td>\n",
              "      <td>2357.0</td>\n",
              "      <td>6.3088</td>\n",
              "      <td>340300.0</td>\n",
              "    </tr>\n",
              "    <tr>\n",
              "      <th>2014</th>\n",
              "      <td>-117.22</td>\n",
              "      <td>32.86</td>\n",
              "      <td>4.0</td>\n",
              "      <td>16289.0</td>\n",
              "      <td>4585.0</td>\n",
              "      <td>7604.0</td>\n",
              "      <td>4176.0</td>\n",
              "      <td>3.6287</td>\n",
              "      <td>280800.0</td>\n",
              "    </tr>\n",
              "    <tr>\n",
              "      <th>2429</th>\n",
              "      <td>-117.20</td>\n",
              "      <td>33.58</td>\n",
              "      <td>2.0</td>\n",
              "      <td>30450.0</td>\n",
              "      <td>5033.0</td>\n",
              "      <td>9419.0</td>\n",
              "      <td>3197.0</td>\n",
              "      <td>4.5936</td>\n",
              "      <td>174300.0</td>\n",
              "    </tr>\n",
              "    <tr>\n",
              "      <th>2452</th>\n",
              "      <td>-117.64</td>\n",
              "      <td>33.87</td>\n",
              "      <td>2.0</td>\n",
              "      <td>17470.0</td>\n",
              "      <td>2727.0</td>\n",
              "      <td>5964.0</td>\n",
              "      <td>1985.0</td>\n",
              "      <td>6.2308</td>\n",
              "      <td>257900.0</td>\n",
              "    </tr>\n",
              "  </tbody>\n",
              "</table>\n",
              "</div>\n",
              "    <div class=\"colab-df-buttons\">\n",
              "\n",
              "  <div class=\"colab-df-container\">\n",
              "    <button class=\"colab-df-convert\" onclick=\"convertToInteractive('df-7387a402-a62a-4772-aa1c-18ee92ca7056')\"\n",
              "            title=\"Convert this dataframe to an interactive table.\"\n",
              "            style=\"display:none;\">\n",
              "\n",
              "  <svg xmlns=\"http://www.w3.org/2000/svg\" height=\"24px\" viewBox=\"0 -960 960 960\">\n",
              "    <path d=\"M120-120v-720h720v720H120Zm60-500h600v-160H180v160Zm220 220h160v-160H400v160Zm0 220h160v-160H400v160ZM180-400h160v-160H180v160Zm440 0h160v-160H620v160ZM180-180h160v-160H180v160Zm440 0h160v-160H620v160Z\"/>\n",
              "  </svg>\n",
              "    </button>\n",
              "\n",
              "  <style>\n",
              "    .colab-df-container {\n",
              "      display:flex;\n",
              "      gap: 12px;\n",
              "    }\n",
              "\n",
              "    .colab-df-convert {\n",
              "      background-color: #E8F0FE;\n",
              "      border: none;\n",
              "      border-radius: 50%;\n",
              "      cursor: pointer;\n",
              "      display: none;\n",
              "      fill: #1967D2;\n",
              "      height: 32px;\n",
              "      padding: 0 0 0 0;\n",
              "      width: 32px;\n",
              "    }\n",
              "\n",
              "    .colab-df-convert:hover {\n",
              "      background-color: #E2EBFA;\n",
              "      box-shadow: 0px 1px 2px rgba(60, 64, 67, 0.3), 0px 1px 3px 1px rgba(60, 64, 67, 0.15);\n",
              "      fill: #174EA6;\n",
              "    }\n",
              "\n",
              "    .colab-df-buttons div {\n",
              "      margin-bottom: 4px;\n",
              "    }\n",
              "\n",
              "    [theme=dark] .colab-df-convert {\n",
              "      background-color: #3B4455;\n",
              "      fill: #D2E3FC;\n",
              "    }\n",
              "\n",
              "    [theme=dark] .colab-df-convert:hover {\n",
              "      background-color: #434B5C;\n",
              "      box-shadow: 0px 1px 3px 1px rgba(0, 0, 0, 0.15);\n",
              "      filter: drop-shadow(0px 1px 2px rgba(0, 0, 0, 0.3));\n",
              "      fill: #FFFFFF;\n",
              "    }\n",
              "  </style>\n",
              "\n",
              "    <script>\n",
              "      const buttonEl =\n",
              "        document.querySelector('#df-7387a402-a62a-4772-aa1c-18ee92ca7056 button.colab-df-convert');\n",
              "      buttonEl.style.display =\n",
              "        google.colab.kernel.accessAllowed ? 'block' : 'none';\n",
              "\n",
              "      async function convertToInteractive(key) {\n",
              "        const element = document.querySelector('#df-7387a402-a62a-4772-aa1c-18ee92ca7056');\n",
              "        const dataTable =\n",
              "          await google.colab.kernel.invokeFunction('convertToInteractive',\n",
              "                                                    [key], {});\n",
              "        if (!dataTable) return;\n",
              "\n",
              "        const docLinkHtml = 'Like what you see? Visit the ' +\n",
              "          '<a target=\"_blank\" href=https://colab.research.google.com/notebooks/data_table.ipynb>data table notebook</a>'\n",
              "          + ' to learn more about interactive tables.';\n",
              "        element.innerHTML = '';\n",
              "        dataTable['output_type'] = 'display_data';\n",
              "        await google.colab.output.renderOutput(dataTable, element);\n",
              "        const docLink = document.createElement('div');\n",
              "        docLink.innerHTML = docLinkHtml;\n",
              "        element.appendChild(docLink);\n",
              "      }\n",
              "    </script>\n",
              "  </div>\n",
              "\n",
              "\n",
              "<div id=\"df-720722d9-3e56-40a6-8263-71b3e408b2f9\">\n",
              "  <button class=\"colab-df-quickchart\" onclick=\"quickchart('df-720722d9-3e56-40a6-8263-71b3e408b2f9')\"\n",
              "            title=\"Suggest charts\"\n",
              "            style=\"display:none;\">\n",
              "\n",
              "<svg xmlns=\"http://www.w3.org/2000/svg\" height=\"24px\"viewBox=\"0 0 24 24\"\n",
              "     width=\"24px\">\n",
              "    <g>\n",
              "        <path d=\"M19 3H5c-1.1 0-2 .9-2 2v14c0 1.1.9 2 2 2h14c1.1 0 2-.9 2-2V5c0-1.1-.9-2-2-2zM9 17H7v-7h2v7zm4 0h-2V7h2v10zm4 0h-2v-4h2v4z\"/>\n",
              "    </g>\n",
              "</svg>\n",
              "  </button>\n",
              "\n",
              "<style>\n",
              "  .colab-df-quickchart {\n",
              "      --bg-color: #E8F0FE;\n",
              "      --fill-color: #1967D2;\n",
              "      --hover-bg-color: #E2EBFA;\n",
              "      --hover-fill-color: #174EA6;\n",
              "      --disabled-fill-color: #AAA;\n",
              "      --disabled-bg-color: #DDD;\n",
              "  }\n",
              "\n",
              "  [theme=dark] .colab-df-quickchart {\n",
              "      --bg-color: #3B4455;\n",
              "      --fill-color: #D2E3FC;\n",
              "      --hover-bg-color: #434B5C;\n",
              "      --hover-fill-color: #FFFFFF;\n",
              "      --disabled-bg-color: #3B4455;\n",
              "      --disabled-fill-color: #666;\n",
              "  }\n",
              "\n",
              "  .colab-df-quickchart {\n",
              "    background-color: var(--bg-color);\n",
              "    border: none;\n",
              "    border-radius: 50%;\n",
              "    cursor: pointer;\n",
              "    display: none;\n",
              "    fill: var(--fill-color);\n",
              "    height: 32px;\n",
              "    padding: 0;\n",
              "    width: 32px;\n",
              "  }\n",
              "\n",
              "  .colab-df-quickchart:hover {\n",
              "    background-color: var(--hover-bg-color);\n",
              "    box-shadow: 0 1px 2px rgba(60, 64, 67, 0.3), 0 1px 3px 1px rgba(60, 64, 67, 0.15);\n",
              "    fill: var(--button-hover-fill-color);\n",
              "  }\n",
              "\n",
              "  .colab-df-quickchart-complete:disabled,\n",
              "  .colab-df-quickchart-complete:disabled:hover {\n",
              "    background-color: var(--disabled-bg-color);\n",
              "    fill: var(--disabled-fill-color);\n",
              "    box-shadow: none;\n",
              "  }\n",
              "\n",
              "  .colab-df-spinner {\n",
              "    border: 2px solid var(--fill-color);\n",
              "    border-color: transparent;\n",
              "    border-bottom-color: var(--fill-color);\n",
              "    animation:\n",
              "      spin 1s steps(1) infinite;\n",
              "  }\n",
              "\n",
              "  @keyframes spin {\n",
              "    0% {\n",
              "      border-color: transparent;\n",
              "      border-bottom-color: var(--fill-color);\n",
              "      border-left-color: var(--fill-color);\n",
              "    }\n",
              "    20% {\n",
              "      border-color: transparent;\n",
              "      border-left-color: var(--fill-color);\n",
              "      border-top-color: var(--fill-color);\n",
              "    }\n",
              "    30% {\n",
              "      border-color: transparent;\n",
              "      border-left-color: var(--fill-color);\n",
              "      border-top-color: var(--fill-color);\n",
              "      border-right-color: var(--fill-color);\n",
              "    }\n",
              "    40% {\n",
              "      border-color: transparent;\n",
              "      border-right-color: var(--fill-color);\n",
              "      border-top-color: var(--fill-color);\n",
              "    }\n",
              "    60% {\n",
              "      border-color: transparent;\n",
              "      border-right-color: var(--fill-color);\n",
              "    }\n",
              "    80% {\n",
              "      border-color: transparent;\n",
              "      border-right-color: var(--fill-color);\n",
              "      border-bottom-color: var(--fill-color);\n",
              "    }\n",
              "    90% {\n",
              "      border-color: transparent;\n",
              "      border-bottom-color: var(--fill-color);\n",
              "    }\n",
              "  }\n",
              "</style>\n",
              "\n",
              "  <script>\n",
              "    async function quickchart(key) {\n",
              "      const quickchartButtonEl =\n",
              "        document.querySelector('#' + key + ' button');\n",
              "      quickchartButtonEl.disabled = true;  // To prevent multiple clicks.\n",
              "      quickchartButtonEl.classList.add('colab-df-spinner');\n",
              "      try {\n",
              "        const charts = await google.colab.kernel.invokeFunction(\n",
              "            'suggestCharts', [key], {});\n",
              "      } catch (error) {\n",
              "        console.error('Error during call to suggestCharts:', error);\n",
              "      }\n",
              "      quickchartButtonEl.classList.remove('colab-df-spinner');\n",
              "      quickchartButtonEl.classList.add('colab-df-quickchart-complete');\n",
              "    }\n",
              "    (() => {\n",
              "      let quickchartButtonEl =\n",
              "        document.querySelector('#df-720722d9-3e56-40a6-8263-71b3e408b2f9 button');\n",
              "      quickchartButtonEl.style.display =\n",
              "        google.colab.kernel.accessAllowed ? 'block' : 'none';\n",
              "    })();\n",
              "  </script>\n",
              "</div>\n",
              "\n",
              "    </div>\n",
              "  </div>\n"
            ],
            "application/vnd.google.colaboratory.intrinsic+json": {
              "type": "dataframe",
              "summary": "{\n  \"name\": \"file[file[\\\"total_bedrooms\\\"]>2600]\",\n  \"rows\": 13,\n  \"fields\": [\n    {\n      \"column\": \"longitude\",\n      \"properties\": {\n        \"dtype\": \"number\",\n        \"std\": 1.6654047787018862,\n        \"min\": -121.73,\n        \"max\": -116.36,\n        \"num_unique_values\": 12,\n        \"samples\": [\n          -117.2,\n          -117.7,\n          -118.08\n        ],\n        \"semantic_type\": \"\",\n        \"description\": \"\"\n      }\n    },\n    {\n      \"column\": \"latitude\",\n      \"properties\": {\n        \"dtype\": \"number\",\n        \"std\": 1.7885906212033003,\n        \"min\": 32.86,\n        \"max\": 38.48,\n        \"num_unique_values\": 13,\n        \"samples\": [\n          33.58,\n          33.48,\n          34.55\n        ],\n        \"semantic_type\": \"\",\n        \"description\": \"\"\n      }\n    },\n    {\n      \"column\": \"housing_median_age\",\n      \"properties\": {\n        \"dtype\": \"number\",\n        \"std\": 5.7534827802439885,\n        \"min\": 2.0,\n        \"max\": 21.0,\n        \"num_unique_values\": 6,\n        \"samples\": [\n          5.0,\n          6.0,\n          2.0\n        ],\n        \"semantic_type\": \"\",\n        \"description\": \"\"\n      }\n    },\n    {\n      \"column\": \"total_rooms\",\n      \"properties\": {\n        \"dtype\": \"number\",\n        \"std\": 4851.26427745836,\n        \"min\": 15025.0,\n        \"max\": 30450.0,\n        \"num_unique_values\": 13,\n        \"samples\": [\n          30450.0,\n          16590.0,\n          16181.0\n        ],\n        \"semantic_type\": \"\",\n        \"description\": \"\"\n      }\n    },\n    {\n      \"column\": \"total_bedrooms\",\n      \"properties\": {\n        \"dtype\": \"number\",\n        \"std\": 992.6071278488838,\n        \"min\": 2616.0,\n        \"max\": 5419.0,\n        \"num_unique_values\": 13,\n        \"samples\": [\n          5033.0,\n          2696.0,\n          2971.0\n        ],\n        \"semantic_type\": \"\",\n        \"description\": \"\"\n      }\n    },\n    {\n      \"column\": \"population\",\n      \"properties\": {\n        \"dtype\": \"number\",\n        \"std\": 2044.3292706084962,\n        \"min\": 4176.0,\n        \"max\": 11935.0,\n        \"num_unique_values\": 13,\n        \"samples\": [\n          9419.0,\n          6223.0,\n          8152.0\n        ],\n        \"semantic_type\": \"\",\n        \"description\": \"\"\n      }\n    },\n    {\n      \"column\": \"households\",\n      \"properties\": {\n        \"dtype\": \"number\",\n        \"std\": 974.4688822964551,\n        \"min\": 1985.0,\n        \"max\": 4930.0,\n        \"num_unique_values\": 13,\n        \"samples\": [\n          3197.0,\n          2357.0,\n          2651.0\n        ],\n        \"semantic_type\": \"\",\n        \"description\": \"\"\n      }\n    },\n    {\n      \"column\": \"median_income\",\n      \"properties\": {\n        \"dtype\": \"number\",\n        \"std\": 0.9770788910620137,\n        \"min\": 3.3799,\n        \"max\": 6.357,\n        \"num_unique_values\": 13,\n        \"samples\": [\n          4.5936,\n          6.3088,\n          4.5237\n        ],\n        \"semantic_type\": \"\",\n        \"description\": \"\"\n      }\n    },\n    {\n      \"column\": \"median_house_value\",\n      \"properties\": {\n        \"dtype\": \"number\",\n        \"std\": 91388.64635943712,\n        \"min\": 141800.0,\n        \"max\": 500001.0,\n        \"num_unique_values\": 13,\n        \"samples\": [\n          174300.0,\n          340300.0,\n          141800.0\n        ],\n        \"semantic_type\": \"\",\n        \"description\": \"\"\n      }\n    }\n  ]\n}"
            }
          },
          "metadata": {},
          "execution_count": 4
        }
      ]
    },
    {
      "cell_type": "markdown",
      "source": [
        "# Python Functions"
      ],
      "metadata": {
        "id": "TPzHL-d0avv2"
      }
    },
    {
      "cell_type": "markdown",
      "source": [
        "##max() function in Python"
      ],
      "metadata": {
        "id": "Go7OSLsJujdf"
      }
    },
    {
      "cell_type": "code",
      "source": [
        "file['total_bedrooms'].max()"
      ],
      "metadata": {
        "colab": {
          "base_uri": "https://localhost:8080/"
        },
        "id": "88iJHjv5s8Vi",
        "outputId": "97e3d473-bed6-47ed-f7ca-d4559133397c"
      },
      "execution_count": null,
      "outputs": [
        {
          "output_type": "execute_result",
          "data": {
            "text/plain": [
              "5419.0"
            ]
          },
          "metadata": {},
          "execution_count": 6
        }
      ]
    },
    {
      "cell_type": "markdown",
      "source": [
        "##min() function in Python"
      ],
      "metadata": {
        "id": "MZXUNqBWurj_"
      }
    },
    {
      "cell_type": "code",
      "source": [
        "file[\"total_bedrooms\"].min()"
      ],
      "metadata": {
        "colab": {
          "base_uri": "https://localhost:8080/"
        },
        "id": "FbzI6pUDu1SD",
        "outputId": "6d26f475-1b89-497e-d2ce-0040f218c7f3"
      },
      "execution_count": null,
      "outputs": [
        {
          "output_type": "execute_result",
          "data": {
            "text/plain": [
              "2.0"
            ]
          },
          "metadata": {},
          "execution_count": 7
        }
      ]
    },
    {
      "cell_type": "markdown",
      "source": [
        "##mean() function in Numpy Library"
      ],
      "metadata": {
        "id": "WjZ5WaDau8kK"
      }
    },
    {
      "cell_type": "code",
      "source": [
        "import numpy as np\n",
        "avg = np.mean(file[\"total_bedrooms\"])\n",
        "print(avg)"
      ],
      "metadata": {
        "colab": {
          "base_uri": "https://localhost:8080/"
        },
        "id": "T4eS7nAavFEL",
        "outputId": "b597955a-9031-4bab-a51c-0dce1879c5ab"
      },
      "execution_count": null,
      "outputs": [
        {
          "output_type": "stream",
          "name": "stdout",
          "text": [
            "529.9506666666666\n"
          ]
        }
      ]
    },
    {
      "cell_type": "markdown",
      "source": [
        "# Data Preperation"
      ],
      "metadata": {
        "id": "_5l2KQv8amqq"
      }
    },
    {
      "cell_type": "markdown",
      "source": [
        "##1. Extract and read data with Pandas"
      ],
      "metadata": {
        "id": "ADXuY2_Nvazy"
      }
    },
    {
      "cell_type": "code",
      "source": [
        "import pandas\n",
        "file  = pandas.read_csv(\"sample_data/california_housing_test.csv\")\n",
        "print(file)"
      ],
      "metadata": {
        "colab": {
          "base_uri": "https://localhost:8080/"
        },
        "id": "om0X4Sl_vrxD",
        "outputId": "8963c2c0-cb52-4a44-b99a-8fa7c047330b"
      },
      "execution_count": null,
      "outputs": [
        {
          "output_type": "stream",
          "name": "stdout",
          "text": [
            "      longitude  latitude  housing_median_age  total_rooms  total_bedrooms  \\\n",
            "0       -122.05     37.37                27.0       3885.0           661.0   \n",
            "1       -118.30     34.26                43.0       1510.0           310.0   \n",
            "2       -117.81     33.78                27.0       3589.0           507.0   \n",
            "3       -118.36     33.82                28.0         67.0            15.0   \n",
            "4       -119.67     36.33                19.0       1241.0           244.0   \n",
            "...         ...       ...                 ...          ...             ...   \n",
            "2995    -119.86     34.42                23.0       1450.0           642.0   \n",
            "2996    -118.14     34.06                27.0       5257.0          1082.0   \n",
            "2997    -119.70     36.30                10.0        956.0           201.0   \n",
            "2998    -117.12     34.10                40.0         96.0            14.0   \n",
            "2999    -119.63     34.42                42.0       1765.0           263.0   \n",
            "\n",
            "      population  households  median_income  median_house_value  \n",
            "0         1537.0       606.0         6.6085            344700.0  \n",
            "1          809.0       277.0         3.5990            176500.0  \n",
            "2         1484.0       495.0         5.7934            270500.0  \n",
            "3           49.0        11.0         6.1359            330000.0  \n",
            "4          850.0       237.0         2.9375             81700.0  \n",
            "...          ...         ...            ...                 ...  \n",
            "2995      1258.0       607.0         1.1790            225000.0  \n",
            "2996      3496.0      1036.0         3.3906            237200.0  \n",
            "2997       693.0       220.0         2.2895             62000.0  \n",
            "2998        46.0        14.0         3.2708            162500.0  \n",
            "2999       753.0       260.0         8.5608            500001.0  \n",
            "\n",
            "[3000 rows x 9 columns]\n"
          ]
        }
      ]
    },
    {
      "cell_type": "markdown",
      "source": [
        "## 2. Data Cleaning\n"
      ],
      "metadata": {
        "id": "GCA-0-vtv5xy"
      }
    },
    {
      "cell_type": "markdown",
      "source": [
        "###Blank Rows"
      ],
      "metadata": {
        "id": "2YNf9Sv4NjZX"
      }
    },
    {
      "cell_type": "markdown",
      "source": [
        "Remove Blank Rows."
      ],
      "metadata": {
        "id": "k7q9gx9yL9SC"
      }
    },
    {
      "cell_type": "code",
      "source": [
        "file.dropna(axis = 0, inplace=True)\n",
        "print(file)"
      ],
      "metadata": {
        "colab": {
          "base_uri": "https://localhost:8080/"
        },
        "id": "sXZoRAg1v_t9",
        "outputId": "58ddd984-09bb-42bf-a4bb-21ed0889bdd9"
      },
      "execution_count": null,
      "outputs": [
        {
          "output_type": "stream",
          "name": "stdout",
          "text": [
            "      longitude  latitude  housing_median_age  total_rooms  total_bedrooms  \\\n",
            "0       -122.05     37.37                27.0       3885.0           661.0   \n",
            "1       -118.30     34.26                43.0       1510.0           310.0   \n",
            "2       -117.81     33.78                27.0       3589.0           507.0   \n",
            "3       -118.36     33.82                28.0         67.0            15.0   \n",
            "4       -119.67     36.33                19.0       1241.0           244.0   \n",
            "...         ...       ...                 ...          ...             ...   \n",
            "2995    -119.86     34.42                23.0       1450.0           642.0   \n",
            "2996    -118.14     34.06                27.0       5257.0          1082.0   \n",
            "2997    -119.70     36.30                10.0        956.0           201.0   \n",
            "2998    -117.12     34.10                40.0         96.0            14.0   \n",
            "2999    -119.63     34.42                42.0       1765.0           263.0   \n",
            "\n",
            "      population  households  median_income  median_house_value  \n",
            "0         1537.0       606.0         6.6085            344700.0  \n",
            "1          809.0       277.0         3.5990            176500.0  \n",
            "2         1484.0       495.0         5.7934            270500.0  \n",
            "3           49.0        11.0         6.1359            330000.0  \n",
            "4          850.0       237.0         2.9375             81700.0  \n",
            "...          ...         ...            ...                 ...  \n",
            "2995      1258.0       607.0         1.1790            225000.0  \n",
            "2996      3496.0      1036.0         3.3906            237200.0  \n",
            "2997       693.0       220.0         2.2895             62000.0  \n",
            "2998        46.0        14.0         3.2708            162500.0  \n",
            "2999       753.0       260.0         8.5608            500001.0  \n",
            "\n",
            "[3000 rows x 9 columns]\n"
          ]
        }
      ]
    },
    {
      "cell_type": "markdown",
      "source": [
        "###info()"
      ],
      "metadata": {
        "id": "vySYsaq_NpbK"
      }
    },
    {
      "cell_type": "markdown",
      "source": [
        "We can use `info()` to list the data types in our dataset.\n",
        "\n",
        "\n"
      ],
      "metadata": {
        "id": "5e3BQ1LtxF7h"
      }
    },
    {
      "cell_type": "code",
      "source": [
        "print(file.info())"
      ],
      "metadata": {
        "colab": {
          "base_uri": "https://localhost:8080/"
        },
        "id": "2WbNiVHPxPOF",
        "outputId": "464b2587-1a1d-4116-aa0a-5b43ae86ab1f"
      },
      "execution_count": null,
      "outputs": [
        {
          "output_type": "stream",
          "name": "stdout",
          "text": [
            "<class 'pandas.core.frame.DataFrame'>\n",
            "RangeIndex: 3000 entries, 0 to 2999\n",
            "Data columns (total 9 columns):\n",
            " #   Column              Non-Null Count  Dtype  \n",
            "---  ------              --------------  -----  \n",
            " 0   longitude           3000 non-null   float64\n",
            " 1   latitude            3000 non-null   float64\n",
            " 2   housing_median_age  3000 non-null   float64\n",
            " 3   total_rooms         3000 non-null   float64\n",
            " 4   total_bedrooms      3000 non-null   float64\n",
            " 5   population          3000 non-null   float64\n",
            " 6   households          3000 non-null   float64\n",
            " 7   median_income       3000 non-null   float64\n",
            " 8   median_house_value  3000 non-null   float64\n",
            "dtypes: float64(9)\n",
            "memory usage: 211.1 KB\n",
            "None\n"
          ]
        }
      ]
    },
    {
      "cell_type": "markdown",
      "source": [
        "###astype()"
      ],
      "metadata": {
        "id": "ps8LpkrTNtCO"
      }
    },
    {
      "cell_type": "markdown",
      "source": [
        "We can use the `astype()` function to convert data."
      ],
      "metadata": {
        "id": "-DAKB65LxqJE"
      }
    },
    {
      "cell_type": "code",
      "source": [
        "file[\"total_rooms\"]= file[\"total_rooms\"].astype(int)\n",
        "file[\"total_bedrooms\"]= file[\"total_bedrooms\"].astype(int)\n",
        "print(file.info())"
      ],
      "metadata": {
        "colab": {
          "base_uri": "https://localhost:8080/"
        },
        "id": "-NfLpvglySAL",
        "outputId": "346b400c-e843-454f-9528-10340e5d8e65"
      },
      "execution_count": null,
      "outputs": [
        {
          "output_type": "stream",
          "name": "stdout",
          "text": [
            "<class 'pandas.core.frame.DataFrame'>\n",
            "RangeIndex: 3000 entries, 0 to 2999\n",
            "Data columns (total 9 columns):\n",
            " #   Column              Non-Null Count  Dtype  \n",
            "---  ------              --------------  -----  \n",
            " 0   longitude           3000 non-null   float64\n",
            " 1   latitude            3000 non-null   float64\n",
            " 2   housing_median_age  3000 non-null   float64\n",
            " 3   total_rooms         3000 non-null   int64  \n",
            " 4   total_bedrooms      3000 non-null   int64  \n",
            " 5   population          3000 non-null   float64\n",
            " 6   households          3000 non-null   float64\n",
            " 7   median_income       3000 non-null   float64\n",
            " 8   median_house_value  3000 non-null   float64\n",
            "dtypes: float64(7), int64(2)\n",
            "memory usage: 211.1 KB\n",
            "None\n"
          ]
        }
      ]
    },
    {
      "cell_type": "markdown",
      "source": [
        "###describe()"
      ],
      "metadata": {
        "id": "gM45fpcVNxsQ"
      }
    },
    {
      "cell_type": "markdown",
      "source": [
        "Analyze the data. We can use the `describe()` function in Python to summarize data."
      ],
      "metadata": {
        "id": "97jeEib1ywqu"
      }
    },
    {
      "cell_type": "code",
      "source": [
        "print(file.describe())"
      ],
      "metadata": {
        "colab": {
          "base_uri": "https://localhost:8080/"
        },
        "id": "WCNqfYkOy8dE",
        "outputId": "4d6a4597-dfa8-41b6-e7e5-72f3d2f2b801"
      },
      "execution_count": null,
      "outputs": [
        {
          "output_type": "stream",
          "name": "stdout",
          "text": [
            "         longitude    latitude  housing_median_age   total_rooms  \\\n",
            "count  3000.000000  3000.00000         3000.000000   3000.000000   \n",
            "mean   -119.589200    35.63539           28.845333   2599.578667   \n",
            "std       1.994936     2.12967           12.555396   2155.593332   \n",
            "min    -124.180000    32.56000            1.000000      6.000000   \n",
            "25%    -121.810000    33.93000           18.000000   1401.000000   \n",
            "50%    -118.485000    34.27000           29.000000   2106.000000   \n",
            "75%    -118.020000    37.69000           37.000000   3129.000000   \n",
            "max    -114.490000    41.92000           52.000000  30450.000000   \n",
            "\n",
            "       total_bedrooms    population  households  median_income  \\\n",
            "count     3000.000000   3000.000000  3000.00000    3000.000000   \n",
            "mean       529.950667   1402.798667   489.91200       3.807272   \n",
            "std        415.654368   1030.543012   365.42271       1.854512   \n",
            "min          2.000000      5.000000     2.00000       0.499900   \n",
            "25%        291.000000    780.000000   273.00000       2.544000   \n",
            "50%        437.000000   1155.000000   409.50000       3.487150   \n",
            "75%        636.000000   1742.750000   597.25000       4.656475   \n",
            "max       5419.000000  11935.000000  4930.00000      15.000100   \n",
            "\n",
            "       median_house_value  \n",
            "count          3000.00000  \n",
            "mean         205846.27500  \n",
            "std          113119.68747  \n",
            "min           22500.00000  \n",
            "25%          121200.00000  \n",
            "50%          177650.00000  \n",
            "75%          263975.00000  \n",
            "max          500001.00000  \n"
          ]
        }
      ]
    },
    {
      "cell_type": "markdown",
      "source": [
        "# Plotting Linear Function"
      ],
      "metadata": {
        "id": "wa6gzlSybO5N"
      }
    },
    {
      "cell_type": "markdown",
      "source": [
        "The `plot()` function is used to make a 2D hexagonal binning plot of points `x`,`y`."
      ],
      "metadata": {
        "id": "r-FYsnqfbaE3"
      }
    },
    {
      "cell_type": "code",
      "source": [
        "import pandas as pd\n",
        "import matplotlib.pyplot as plt\n",
        "\n",
        "data = pd.read_csv(\"sample_data/california_housing_test.csv\")\n",
        "data = data.head(100)\n",
        "data.plot(x=\"total_rooms\",y=\"total_bedrooms\",kind = \"scatter\")\n",
        "plt.ylim(ymin = 0)\n",
        "plt.xlim(xmin = 0)\n",
        "plt.show()"
      ],
      "metadata": {
        "colab": {
          "base_uri": "https://localhost:8080/",
          "height": 450
        },
        "id": "UG6uOvWGbpej",
        "outputId": "09554e83-becb-4033-bef9-ccc4ccac4cb1"
      },
      "execution_count": null,
      "outputs": [
        {
          "output_type": "display_data",
          "data": {
            "text/plain": [
              "<Figure size 640x480 with 1 Axes>"
            ],
            "image/png": "[encoded data removed]"
          },
          "metadata": {}
        }
      ]
    },
    {
      "cell_type": "code",
      "source": [
        "import pandas as pd\n",
        "d = {'col1':[1,2,3,4],'col2':[5,6,7,8],'col3':[9,10,11,12]}\n",
        "df = pd.DataFrame(data=d)\n",
        "print(df)\n",
        "# Number of rows\n",
        "print(df.shape[0])\n",
        "# Number of columns\n",
        "print(df.shape[1])"
      ],
      "metadata": {
        "colab": {
          "base_uri": "https://localhost:8080/"
        },
        "id": "4pfe1vhvd4Ic",
        "outputId": "177c99b4-1b18-402e-cd92-7d604ee25e1d"
      },
      "execution_count": null,
      "outputs": [
        {
          "output_type": "stream",
          "name": "stdout",
          "text": [
            "   col1  col2  col3\n",
            "0     1     5     9\n",
            "1     2     6    10\n",
            "2     3     7    11\n",
            "3     4     8    12\n",
            "4\n",
            "3\n"
          ]
        }
      ]
    },
    {
      "cell_type": "markdown",
      "source": [
        "Finding slope, intercept of linear data."
      ],
      "metadata": {
        "id": "od_RHaYOjYiN"
      }
    },
    {
      "cell_type": "code",
      "source": [
        "import pandas as pd\n",
        "import numpy as np\n",
        "\n",
        "data = {'Avg_Pulse':[80,85,90,95,100,105,110],'Calorie_Burnage':[240,250,260,270,280,290,300]}\n",
        "df = pd.DataFrame(data=data)\n",
        "# print(df)\n",
        "x = df['Avg_Pulse']\n",
        "y = df['Calorie_Burnage']\n",
        "slope_intercept = np.polyfit(x,y,1)\n",
        "print(slope_intercept)"
      ],
      "metadata": {
        "colab": {
          "base_uri": "https://localhost:8080/"
        },
        "id": "hYKYprFUfd6y",
        "outputId": "4b65f99d-2a7b-4b25-d25b-6fc24cdad4f4"
      },
      "execution_count": null,
      "outputs": [
        {
          "output_type": "stream",
          "name": "stdout",
          "text": [
            "[ 2. 80.]\n"
          ]
        }
      ]
    },
    {
      "cell_type": "markdown",
      "source": [
        "Function for prediction."
      ],
      "metadata": {
        "id": "GuVgrwaLjVMT"
      }
    },
    {
      "cell_type": "code",
      "source": [
        "m = round(slope_intercept[0])\n",
        "c = round(slope_intercept[1])\n",
        "def my_fnc(x):\n",
        "  return m*x+c\n",
        "print(my_fnc(135))"
      ],
      "metadata": {
        "colab": {
          "base_uri": "https://localhost:8080/"
        },
        "id": "pUcUQivvhd1g",
        "outputId": "20a7b99b-e64e-47cc-869f-50bc3b1c7a49"
      },
      "execution_count": null,
      "outputs": [
        {
          "output_type": "stream",
          "name": "stdout",
          "text": [
            "350\n"
          ]
        }
      ]
    },
    {
      "cell_type": "markdown",
      "source": [
        "# Statistics"
      ],
      "metadata": {
        "id": "UnbUWy38ikxN"
      }
    },
    {
      "cell_type": "markdown",
      "source": [
        "**Descriptive Statistics** summarizes the important features of a dataset such as count,sum, standard deviation, percentile, mean etc. We can use the `describe()` function for this."
      ],
      "metadata": {
        "id": "i7qAiwpzkX95"
      }
    },
    {
      "cell_type": "markdown",
      "source": [
        "##Percentiles"
      ],
      "metadata": {
        "id": "cbCXUEJOMiOy"
      }
    },
    {
      "cell_type": "markdown",
      "source": [
        "**Statistics percentiles** are used to give a number that describes the value that a given percent of the values are lower than.\n",
        "We can use the `percentile()` function for this."
      ],
      "metadata": {
        "id": "yI1i0NslkykV"
      }
    },
    {
      "cell_type": "code",
      "source": [
        "import pandas as pd\n",
        "import numpy as np\n",
        "\n",
        "data = {'Avg_Pulse':[80,85,90,95,100,105,110],'Calorie_Burnage':[240,250,260,270,280,290,300]}\n",
        "df = pd.DataFrame(data=data)\n",
        "Avg_Pulse = df[\"Avg_Pulse\"]\n",
        "percentile10 = np.percentile(Avg_Pulse,10)\n",
        "print(percentile10)"
      ],
      "metadata": {
        "colab": {
          "base_uri": "https://localhost:8080/"
        },
        "id": "9ZaP0dTGirvZ",
        "outputId": "f0e955ec-9016-4317-9d34-27b2a638f5b4"
      },
      "execution_count": null,
      "outputs": [
        {
          "output_type": "stream",
          "name": "stdout",
          "text": [
            "83.0\n"
          ]
        }
      ]
    },
    {
      "cell_type": "markdown",
      "source": [
        "##Standard Deviation"
      ],
      "metadata": {
        "id": "He2zJo8KMnnW"
      }
    },
    {
      "cell_type": "markdown",
      "source": [
        "**Standard Deviation** is a number that describes how spread out the values are. We can use `std()` function to find the standard deviation."
      ],
      "metadata": {
        "id": "L21iYpIUltle"
      }
    },
    {
      "cell_type": "code",
      "source": [
        "std = np.std(df)\n",
        "print(std)"
      ],
      "metadata": {
        "colab": {
          "base_uri": "https://localhost:8080/"
        },
        "id": "-5cxxArmlgwY",
        "outputId": "0f1e9bac-90eb-465f-a73e-2bc858f6c136"
      },
      "execution_count": null,
      "outputs": [
        {
          "output_type": "stream",
          "name": "stdout",
          "text": [
            "Avg_Pulse          10.0\n",
            "Calorie_Burnage    20.0\n",
            "dtype: float64\n"
          ]
        }
      ]
    },
    {
      "cell_type": "markdown",
      "source": [
        "##Coefficient of Variation"
      ],
      "metadata": {
        "id": "Nv7WxmbHMt6S"
      }
    },
    {
      "cell_type": "markdown",
      "source": [
        "**Coefficient of Variation** is used to get an idea of how large the standard deviation is."
      ],
      "metadata": {
        "id": "vG0iCmsJpAPk"
      }
    },
    {
      "cell_type": "code",
      "source": [
        "cv = np.std(df)/np.mean(df)\n",
        "print(cv)"
      ],
      "metadata": {
        "colab": {
          "base_uri": "https://localhost:8080/"
        },
        "id": "ita_xPQtpsyk",
        "outputId": "239a2530-9cbe-4a0c-cf3c-a33182c92746"
      },
      "execution_count": null,
      "outputs": [
        {
          "output_type": "stream",
          "name": "stdout",
          "text": [
            "Avg_Pulse          0.054795\n",
            "Calorie_Burnage    0.109589\n",
            "dtype: float64\n"
          ]
        }
      ]
    },
    {
      "cell_type": "markdown",
      "source": [
        "##Variance"
      ],
      "metadata": {
        "id": "xEmJvevRM-A1"
      }
    },
    {
      "cell_type": "markdown",
      "source": [
        "**Variance** is another number that indicates how spread out the values are. We can use `var()` function from numpy to find variance."
      ],
      "metadata": {
        "id": "D83ungFtqLCU"
      }
    },
    {
      "cell_type": "code",
      "source": [
        "var = np.var(df)\n",
        "print(var)"
      ],
      "metadata": {
        "colab": {
          "base_uri": "https://localhost:8080/"
        },
        "id": "RSvd4CEFqg4s",
        "outputId": "2a4af005-cf1e-42c8-e4a4-6b0373c68c01"
      },
      "execution_count": null,
      "outputs": [
        {
          "output_type": "stream",
          "name": "stdout",
          "text": [
            "Avg_Pulse          100.0\n",
            "Calorie_Burnage    400.0\n",
            "dtype: float64\n"
          ]
        }
      ]
    },
    {
      "cell_type": "markdown",
      "source": [
        "##Correlation"
      ],
      "metadata": {
        "id": "gpGxGKD_NJ41"
      }
    },
    {
      "cell_type": "markdown",
      "source": [
        "**Correlation** measures the relationship between two or more variables. It can be linear, non-linear, or negative linear.\n",
        "The graph below shows linear correlation."
      ],
      "metadata": {
        "id": "UgmGW4HVrO9j"
      }
    },
    {
      "cell_type": "code",
      "source": [
        "import matplotlib.pyplot as plt\n",
        "df.plot(x='Avg_Pulse',y='Calorie_Burnage',kind = 'scatter')\n",
        "plt.show()"
      ],
      "metadata": {
        "colab": {
          "base_uri": "https://localhost:8080/",
          "height": 450
        },
        "id": "8T58Lnvbrsqf",
        "outputId": "9a2bd81d-0c2f-4b31-eede-980ccf5b2065"
      },
      "execution_count": null,
      "outputs": [
        {
          "output_type": "display_data",
          "data": {
            "text/plain": [
              "<Figure size 640x480 with 1 Axes>"
            ],
            "image/png": "[encoded data removed]"
          },
          "metadata": {}
        }
      ]
    },
    {
      "cell_type": "markdown",
      "source": [
        "##Correlation Matrix"
      ],
      "metadata": {
        "id": "eyqJONr1NOGU"
      }
    },
    {
      "cell_type": "markdown",
      "source": [
        "**Correlation Matrix** is simply a table showing the correlation between variables\n",
        "We can use the `corr()` function to create a correlation matrix."
      ],
      "metadata": {
        "id": "5Jg9fMjct_an"
      }
    },
    {
      "cell_type": "code",
      "source": [
        "import pandas as pd\n",
        "\n",
        "data = {'Duration':[30,30,45,45,45,60,60],'Avg_Pulse':[80,85,90,95,100,105,110],\n",
        "        'Max_Pulse':[120,120,130,130,140,140,145],'Calorie_Burnage':[240,250,260,270,280,290,300],\n",
        "        'Hours_Work':[10,10,8,8,0,7,7],'Hours_Sleep':[7,7,7,7,7,8,8]}\n",
        "df = pd.DataFrame(data=data)\n",
        "corr_Matrix = round(df.corr(),2)\n",
        "print(corr_Matrix)"
      ],
      "metadata": {
        "colab": {
          "base_uri": "https://localhost:8080/"
        },
        "id": "8biiRBTusaXY",
        "outputId": "5e4835a0-3267-4dd8-cdaa-88a84547ead2"
      },
      "execution_count": null,
      "outputs": [
        {
          "output_type": "stream",
          "name": "stdout",
          "text": [
            "                 Duration  Avg_Pulse  Max_Pulse  Calorie_Burnage  Hours_Work  \\\n",
            "Duration             1.00       0.94       0.92             0.94       -0.36   \n",
            "Avg_Pulse            0.94       1.00       0.97             1.00       -0.52   \n",
            "Max_Pulse            0.92       0.97       1.00             0.97       -0.65   \n",
            "Calorie_Burnage      0.94       1.00       0.97             1.00       -0.52   \n",
            "Hours_Work          -0.36      -0.52      -0.65            -0.52        1.00   \n",
            "Hours_Sleep          0.84       0.79       0.71             0.79       -0.03   \n",
            "\n",
            "                 Hours_Sleep  \n",
            "Duration                0.84  \n",
            "Avg_Pulse               0.79  \n",
            "Max_Pulse               0.71  \n",
            "Calorie_Burnage         0.79  \n",
            "Hours_Work             -0.03  \n",
            "Hours_Sleep             1.00  \n"
          ]
        }
      ]
    },
    {
      "cell_type": "markdown",
      "source": [
        "##Heatmap"
      ],
      "metadata": {
        "id": "2jpfyfADNSED"
      }
    },
    {
      "cell_type": "markdown",
      "source": [
        "**Heatmap** can be used to visualize the correlation between variables.\n",
        "We can use the seaborn library to create a correlation heatmap."
      ],
      "metadata": {
        "id": "txo2ZObEujtg"
      }
    },
    {
      "cell_type": "code",
      "source": [
        "import matplotlib.pyplot as plt\n",
        "import seaborn as sns\n",
        "corr_data = df.corr()\n",
        "axis_corr = sns.heatmap(corr_data,vmin=-1,vmax=1,center=0,\n",
        "                        cmap=sns.diverging_palette(50,500,n=500),square=True)\n",
        "plt.show()"
      ],
      "metadata": {
        "colab": {
          "base_uri": "https://localhost:8080/",
          "height": 536
        },
        "id": "kBXxlSQlvM4B",
        "outputId": "cad9c4e5-5af4-4cd2-a95a-41cf013836e8"
      },
      "execution_count": null,
      "outputs": [
        {
          "output_type": "display_data",
          "data": {
            "text/plain": [
              "<Figure size 640x480 with 2 Axes>"
            ],
            "image/png": "[encoded data removed]"
          },
          "metadata": {}
        }
      ]
    },
    {
      "cell_type": "markdown",
      "source": [
        "# Advanced\n"
      ],
      "metadata": {
        "id": "QglYoQsrjtX_"
      }
    },
    {
      "cell_type": "markdown",
      "source": [
        "##Linear Regression"
      ],
      "metadata": {
        "id": "fmmuehYA30ON"
      }
    },
    {
      "cell_type": "markdown",
      "source": [
        "**Linear Regression**\n",
        "The term regression is used when you try to find the relationship between variables.\n",
        "\n",
        "**Least Square Method**\n",
        "Linear regression uses the least square method.\n",
        "\n",
        "The concept is to draw a line through all the plotted data points. The line is positioned in a way that it minimizes the distance to all of the data points.\n",
        "\n",
        "The distance is called \"residuals\" or \"errors\"."
      ],
      "metadata": {
        "id": "RC3DtC7Gj2tn"
      }
    },
    {
      "cell_type": "code",
      "source": [
        "import pandas as pd\n",
        "import matplotlib.pyplot as plt\n",
        "from scipy import stats\n",
        "\n",
        "data = pd.read_csv(\"sample_data/california_housing_test.csv\")\n",
        "data = data.iloc[100:300]\n",
        "x = data['total_rooms']\n",
        "y = data['total_bedrooms']\n",
        "\n",
        "slope,intercept,r,p,std_err = stats.linregress(x,y)\n",
        "\n",
        "def myfnc(x):\n",
        "  return slope*x + intercept\n",
        "\n",
        "mymodel = list(map(myfnc,x))\n",
        "\n",
        "plt.scatter(x,y)\n",
        "plt.plot(x,mymodel)\n",
        "plt.ylim(ymin=0, ymax=2000)\n",
        "plt.xlim(xmin=0, xmax=10000)\n",
        "plt.xlabel(\"total_rooms\")\n",
        "plt.ylabel(\"total_bedrooms\")\n",
        "plt.show()"
      ],
      "metadata": {
        "colab": {
          "base_uri": "https://localhost:8080/",
          "height": 455
        },
        "id": "2bpv1NW_kf9_",
        "outputId": "db35b154-1a06-4818-b843-674ac5730b70"
      },
      "execution_count": null,
      "outputs": [
        {
          "output_type": "display_data",
          "data": {
            "text/plain": [
              "<Figure size 640x480 with 1 Axes>"
            ],
            "image/png": "[encoded data removed]"
          },
          "metadata": {}
        }
      ]
    },
    {
      "cell_type": "markdown",
      "source": [
        "##Regression Table\n"
      ],
      "metadata": {
        "id": "6IrrCAYy34Kd"
      }
    },
    {
      "cell_type": "markdown",
      "source": [
        "The output from linear regression can be summarized in a regression table.\n",
        "\n",
        "The content of the table includes:\n",
        "\n",
        "* Information about the model\n",
        "* Coefficients of the linear regression function\n",
        "* Regression statistics\n",
        "* Statistics of the coefficients from the linear regression function\n",
        "* Other information that we will not cover in this module\n",
        "\n",
        "\n"
      ],
      "metadata": {
        "id": "024moZS24R7Z"
      }
    },
    {
      "cell_type": "code",
      "source": [
        "import pandas as pd\n",
        "import statsmodels.formula.api as smf\n",
        "\n",
        "hdata = pd.read_csv(\"sample_data/california_housing_test.csv\", header=0, sep=\",\")\n",
        "\n",
        "model = smf.ols('total_rooms ~ total_bedrooms', data = hdata)\n",
        "results = model.fit()\n",
        "print(results.summary())"
      ],
      "metadata": {
        "colab": {
          "base_uri": "https://localhost:8080/"
        },
        "id": "WtqGecou35Lf",
        "outputId": "013dd00a-757f-4fb3-ff40-cfdcc90dfad0"
      },
      "execution_count": null,
      "outputs": [
        {
          "output_type": "stream",
          "name": "stdout",
          "text": [
            "                            OLS Regression Results                            \n",
            "==============================================================================\n",
            "Dep. Variable:            total_rooms   R-squared:                       0.879\n",
            "Model:                            OLS   Adj. R-squared:                  0.879\n",
            "Method:                 Least Squares   F-statistic:                 2.186e+04\n",
            "Date:                Wed, 18 Sep 2024   Prob (F-statistic):               0.00\n",
            "Time:                        06:49:50   Log-Likelihood:                -24111.\n",
            "No. Observations:                3000   AIC:                         4.823e+04\n",
            "Df Residuals:                    2998   BIC:                         4.824e+04\n",
            "Df Model:                           1                                         \n",
            "Covariance Type:            nonrobust                                         \n",
            "==================================================================================\n",
            "                     coef    std err          t      P>|t|      [0.025      0.975]\n",
            "----------------------------------------------------------------------------------\n",
            "Intercept         22.3278     22.154      1.008      0.314     -21.111      65.767\n",
            "total_bedrooms     4.8632      0.033    147.837      0.000       4.799       4.928\n",
            "==============================================================================\n",
            "Omnibus:                      619.200   Durbin-Watson:                   1.987\n",
            "Prob(Omnibus):                  0.000   Jarque-Bera (JB):            19370.502\n",
            "Skew:                          -0.199   Prob(JB):                         0.00\n",
            "Kurtosis:                      15.442   Cond. No.                     1.09e+03\n",
            "==============================================================================\n",
            "\n",
            "Notes:\n",
            "[1] Standard Errors assume that the covariance matrix of the errors is correctly specified.\n",
            "[2] The condition number is large, 1.09e+03. This might indicate that there are\n",
            "strong multicollinearity or other numerical problems.\n"
          ]
        }
      ]
    },
    {
      "cell_type": "markdown",
      "source": [
        "### Regression Info\n",
        "The information part in regression table.\n",
        "* **Dep. Variable**: is short for \"Dependent Variable\". `total_rooms` is here the dependent variable. The Dependent variable is here assumed to be explained by Average_Pulse.\n",
        "* **Model**: OLS is short for Ordinary Least Squares. This is a type of model that uses the Least Square method.\n",
        "* **Date:** and **Time:** shows the date and time the output was calculated in Python."
      ],
      "metadata": {
        "id": "vb8Tc_At50tT"
      }
    },
    {
      "cell_type": "markdown",
      "source": [
        "### Regression Coefficients\n",
        "The \"Coefficients Part\" in Regression Table.\n",
        "\n",
        "**Coef** is short for coefficient. It is the output of the linear regression function.\n",
        "The linear regression function can be rewritten mathematically as:\n",
        "\n",
        "```\n",
        "total_rooms = 4.8632 * total_bedrooms + 22.3278\n",
        "```"
      ],
      "metadata": {
        "id": "LSamMkUv71Kw"
      }
    },
    {
      "cell_type": "markdown",
      "source": [
        "Using the above values we can define a linear regression function to perform predictions."
      ],
      "metadata": {
        "id": "1dvAbAtn9G2o"
      }
    },
    {
      "cell_type": "code",
      "source": [
        "def Predict_Total_Rooms(total_bedrooms):\n",
        " return(4.8632*total_bedrooms + 22.3278)\n",
        "\n",
        "print(Predict_Total_Rooms(10))\n",
        "print(Predict_Total_Rooms(1))\n",
        "print(Predict_Total_Rooms(5))\n",
        "print(Predict_Total_Rooms(20))"
      ],
      "metadata": {
        "colab": {
          "base_uri": "https://localhost:8080/"
        },
        "id": "f6maXoAo9rys",
        "outputId": "49d88f36-44d8-4746-b6a4-1d3e7742b682"
      },
      "execution_count": null,
      "outputs": [
        {
          "output_type": "stream",
          "name": "stdout",
          "text": [
            "70.9598\n",
            "27.191\n",
            "46.6438\n",
            "119.59179999999999\n"
          ]
        }
      ]
    },
    {
      "cell_type": "markdown",
      "source": [
        "\n",
        "The \"Statistics of the Coefficients Part\" in Regression Table.\n",
        "\n",
        "Now, we want to test if the coefficients from the linear regression function has a significant impact on the dependent variable (`total_rooms`).\n",
        "\n",
        "This means that we want to prove that it exists a relationship between `total_bedrooms` and `total_rooms`, using statistical tests.\n",
        "\n",
        "There are four components that explains the statistics of the coefficients:\n",
        "\n",
        "* **std err** stands for Standard Error\n",
        "* **t** is the \"t-value\" of the coefficients\n",
        "* **P>|t|** is called the \"P-value\"\n",
        "* **[0.025  0.975]** represents the confidence interval of the coefficients"
      ],
      "metadata": {
        "id": "gfHpvYVI9rMh"
      }
    },
    {
      "cell_type": "markdown",
      "source": [
        "###Regression P-Value\n",
        "\n",
        "The P-value is a statistical number to conclude if there is a relationship between `total_bedrooms` and `total_rooms`.\n",
        "\n",
        "We test if the true value of the coefficient is equal to zero (no relationship). The statistical test for this is called Hypothesis testing.\n",
        "\n",
        "* A low P-value (< 0.05) means that the coefficient is likely not to equal zero.\n",
        "* A high P-value (> 0.05) means that we cannot conclude that the explanatory variable affects the dependent variable.\n",
        "* A high P-value is also called an insignificant P-value."
      ],
      "metadata": {
        "id": "3MzSe9QEADTO"
      }
    },
    {
      "cell_type": "markdown",
      "source": [
        "###Hypothesis Testing\n",
        "Hypothesis testing is a statistical procedure to test if your results are valid.\n",
        "\n",
        "In our example, we are testing if the true coefficient of `total_bedrooms` and the intercept is equal to zero.\n",
        "\n",
        "Hypothesis test has two statements. The null hypothesis and the alternative hypothesis.\n",
        "\n",
        "The null hypothesis can be shortly written as H0\n",
        "The alternative hypothesis can be shortly written as HA\n",
        "Mathematically written:\n",
        "```\n",
        "H0: Average_Pulse = 0\n",
        "HA: Average_Pulse ≠ 0\n",
        "H0: Intercept = 0\n",
        "HA: Intercept ≠ 0\n",
        "```\n",
        "The sign ≠ means \"not equal to\""
      ],
      "metadata": {
        "id": "FSxvRHR9Bya0"
      }
    },
    {
      "cell_type": "markdown",
      "source": [
        "###Hypothesis Testing and P-value\n",
        "The null hypothesis can either be rejected or not.\n",
        "\n",
        "If we reject the null hypothesis, we conclude that it exist a relationship between `total_bedrroms` and `total_bedrooms`. The P-value is used for this conclusion.\n",
        "\n",
        "A common threshold of the P-value is 0.05. A P-value of 0.05 means that 5% of the times, we will falsely reject the null hypothesis. It means that we accept that 5% of the times, we might falsely have concluded a relationship.\n",
        "\n",
        "If the P-value is lower than 0.05, we can reject the null hypothesis and conclude that it exist a relationship between the variables.\n",
        "\n",
        "However, the P-value of `total_bedrroms` is 0.000. So, we can conclude a relationship between `total_bedrroms` and `total_bedrooms`.\n",
        "\n",
        "It means that there is a 0% chance that the true coefficient of `total_bedrroms` is zero.\n",
        "\n",
        "The intercept is used to adjust the regression function's ability to predict more precisely. It is therefore uncommon to interpret the P-value of the intercept."
      ],
      "metadata": {
        "id": "keJc9_kWCcTW"
      }
    },
    {
      "cell_type": "markdown",
      "source": [
        "###Regression R-Squared\n",
        "R-Squared and Adjusted R-Squared describes how well the linear regression model fits the data points.\n",
        "\n",
        "The value of R-Squared is always between 0 to 1 (0% to 100%).\n",
        "\n",
        "A high R-Squared value means that many data points are close to the linear regression function line.\n",
        "\n",
        "A low R-Squared value means that the linear regression function line does not fit the data well."
      ],
      "metadata": {
        "id": "bBIJN15jDSW0"
      }
    },
    {
      "cell_type": "markdown",
      "source": [
        "###Summary\n",
        "Summarizing the linear regression function with `total_bedrroms` as explanatory variable.\n",
        "\n",
        "* Coefficient of `4.8632` , which means that `total_bedrooms` has an effect on `total_rooms`.\n",
        "* Low P-value (`0.000`), which means that we can conclude a relationship between `total_bedrooms` and `total_rooms`.\n",
        "* R-Squared value of `0.879`, which means that the linear regression function line fits the data well."
      ],
      "metadata": {
        "id": "L1niCxFED-vL"
      }
    },
    {
      "cell_type": "markdown",
      "source": [
        "We can also use\n",
        "```\n",
        "model = smf.ols('Calorie_Burnage ~ Average_Pulse + Duration', data = full_health_data)\n",
        "```\n",
        " to use multiple data columns for this procedure."
      ],
      "metadata": {
        "id": "fEima84TF6FP"
      }
    }
  ]
}