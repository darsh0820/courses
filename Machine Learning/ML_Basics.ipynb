{
  "nbformat": 4,
  "nbformat_minor": 0,
  "metadata": {
    "colab": {
      "provenance": [],
      "authorship_tag": "ABX9TyO4bb0/O0bBtGji2B8XD0pi",
      "include_colab_link": true
    },
    "kernelspec": {
      "name": "python3",
      "display_name": "Python 3"
    },
    "language_info": {
      "name": "python"
    }
  },
  "cells": [
    {
      "cell_type": "markdown",
      "metadata": {
        "id": "view-in-github",
        "colab_type": "text"
      },
      "source": [
        "<a href=\"https://colab.research.google.com/github/darsh0820/courses/blob/main/Machine%20Learning/ML_Basics.ipynb\" target=\"_parent\"><img src=\"https://colab.research.google.com/assets/colab-badge.svg\" alt=\"Open In Colab\"/></a>"
      ]
    },
    {
      "cell_type": "markdown",
      "source": [
        "#Introduction to Machine Learning\n",
        "Machine Learning is a program that analyses data and learns to predict the outcome."
      ],
      "metadata": {
        "id": "YvEyS0RorYql"
      }
    },
    {
      "cell_type": "markdown",
      "source": [
        "##Data Set\n",
        "In the mind of a computer, a data set is any collection of data. It can be anything from an array to a complete database.\n",
        "\n",
        "Example of an array:\n",
        "```\n",
        "[99,86,87,88,111,86,103,87,94,78,77,85,86]\n",
        "```\n",
        "By looking at the array, we can guess that the average value is probably around 90, and we are also able to determine that the highest value is 111 and the lowest value is 77.\n",
        "\n",
        "Suppose we have a database consisting of data about house pricing based on area, number of rooms, number of bedrooms etc. We can use machine learning to predict the price of a home based on those provided factors.\n",
        "\n",
        "In Machine Learning it is common to work with very large data sets."
      ],
      "metadata": {
        "id": "SWgbCcCDrv5R"
      }
    },
    {
      "cell_type": "markdown",
      "source": [
        "##Data Types\n",
        "To analyze data, it is important to know what type of data we are dealing with.\n",
        "\n",
        "We can split the data types into three main categories:\n",
        "\n",
        "- **Numerical data** are numbers, and can be split into two numerical categories:\n",
        "\n",
        "  Discrete Data\n",
        "  - counted data that are limited to integers. Example: A person's age.\n",
        "  Continuous Data\n",
        "  - measured data that can be any number. Example: The price of an item.\n",
        "\n",
        "- **Categorical data** are values that cannot be measured up against each other. Example: a color value, or any yes/no values.\n",
        "\n",
        "- **Ordinal data** are like categorical data, but can be measured up against each other. Example: school grades where A is better than B and so on."
      ],
      "metadata": {
        "id": "U7zIqL6ZtEKC"
      }
    },
    {
      "cell_type": "markdown",
      "source": [
        "#Mean, Median, and Mode\n",
        "\n",
        "In Machine Learning there are often three mathematical values that interests us:\n",
        "- Mean\n",
        "- Median\n",
        "- Mode\n",
        "\n",
        "Example: We have registered the speed of 13 cars:\n",
        "```\n",
        "speed = [99,86,87,88,111,86,103,87,94,78,77,85,86]\n",
        "```"
      ],
      "metadata": {
        "id": "mxFmBWUUuLzR"
      }
    },
    {
      "cell_type": "markdown",
      "source": [
        "## Mean\n",
        "The mean value is the average value.\n",
        "\n",
        "Use the NumPy `mean()` method to find the average speed:"
      ],
      "metadata": {
        "id": "hTx_z22oumxu"
      }
    },
    {
      "cell_type": "code",
      "execution_count": 1,
      "metadata": {
        "colab": {
          "base_uri": "https://localhost:8080/"
        },
        "id": "FMn42R7Tq147",
        "outputId": "f996eed3-efb0-416c-a116-56079dff6cc9"
      },
      "outputs": [
        {
          "output_type": "stream",
          "name": "stdout",
          "text": [
            "89.76923076923077\n"
          ]
        }
      ],
      "source": [
        "import numpy\n",
        "\n",
        "speed = [99,86,87,88,111,86,103,87,94,78,77,85,86]\n",
        "\n",
        "x = numpy.mean(speed)\n",
        "\n",
        "print(x)"
      ]
    },
    {
      "cell_type": "markdown",
      "source": [
        "## Median\n",
        "The median value is the value in the middle, after all the values have been sorted.\n",
        "\n",
        "Use the NumPy `median()` method to find the middle value:"
      ],
      "metadata": {
        "id": "kkHElImDu1Jp"
      }
    },
    {
      "cell_type": "code",
      "source": [
        "import numpy\n",
        "\n",
        "speed = [99,86,87,88,111,86,103,87,94,78,77,85,86]\n",
        "\n",
        "x = numpy.median(speed)\n",
        "\n",
        "print(x)"
      ],
      "metadata": {
        "colab": {
          "base_uri": "https://localhost:8080/"
        },
        "id": "lgRB8qQUvfoZ",
        "outputId": "127d9e80-f643-4a08-abdd-38d2340b5a55"
      },
      "execution_count": 2,
      "outputs": [
        {
          "output_type": "stream",
          "name": "stdout",
          "text": [
            "87.0\n"
          ]
        }
      ]
    },
    {
      "cell_type": "markdown",
      "source": [
        "If there are two numbers in the middle, divide the sum of those numbers by two.\n",
        "```\n",
        "77, 78, 85, 86, 86, 86, 87, 87, 94, 98, 99, 103\n",
        "(86 + 87) / 2 = 86.5\n",
        "```"
      ],
      "metadata": {
        "id": "oVn7oalfv1qQ"
      }
    },
    {
      "cell_type": "code",
      "source": [
        "import numpy\n",
        "\n",
        "speed = [99,86,87,88,86,103,87,94,78,77,85,86]\n",
        "\n",
        "x = numpy.median(speed)\n",
        "\n",
        "print(x)"
      ],
      "metadata": {
        "colab": {
          "base_uri": "https://localhost:8080/"
        },
        "id": "qJ6RYMZMv9kW",
        "outputId": "a3cd9e2c-27e7-41fc-d794-f08724d93761"
      },
      "execution_count": 3,
      "outputs": [
        {
          "output_type": "stream",
          "name": "stdout",
          "text": [
            "86.5\n"
          ]
        }
      ]
    },
    {
      "cell_type": "markdown",
      "source": [
        "##Mode\n",
        "The Mode value is the value that appears the most number of times.\n",
        "\n",
        "Use the SciPy `mode()` method to find the number that appears the most:"
      ],
      "metadata": {
        "id": "min7IGxpwHCy"
      }
    },
    {
      "cell_type": "code",
      "source": [
        "from scipy import stats\n",
        "\n",
        "speed = [99,86,87,88,111,86,103,87,94,78,77,85,86]\n",
        "\n",
        "x = stats.mode(speed)\n",
        "\n",
        "print(x)"
      ],
      "metadata": {
        "colab": {
          "base_uri": "https://localhost:8080/"
        },
        "id": "rmuVUbXcwTcc",
        "outputId": "19611f90-0765-4ed7-96e5-641f0b7a6b64"
      },
      "execution_count": 4,
      "outputs": [
        {
          "output_type": "stream",
          "name": "stdout",
          "text": [
            "ModeResult(mode=86, count=3)\n"
          ]
        }
      ]
    },
    {
      "cell_type": "markdown",
      "source": [
        "#Standard Deviation\n",
        "Standard deviation is a number that describes how spread out the values are.\n",
        "A low standard deviation means that most of the numbers are close to the mean value whereas a high standard deviation means that the values are spread out over a wider range.\n",
        "\n",
        "Use the NumPy std() method to find the standard deviation:\n"
      ],
      "metadata": {
        "id": "5PpCelJD1U5l"
      }
    },
    {
      "cell_type": "code",
      "source": [
        "import numpy\n",
        "\n",
        "speed = [86,87,88,86,87,85,86]\n",
        "\n",
        "x = numpy.std(speed)\n",
        "\n",
        "print(x)"
      ],
      "metadata": {
        "colab": {
          "base_uri": "https://localhost:8080/"
        },
        "id": "NXB1icX21vLF",
        "outputId": "171d043c-1abe-415e-96c1-0b24c1292ba8"
      },
      "execution_count": 5,
      "outputs": [
        {
          "output_type": "stream",
          "name": "stdout",
          "text": [
            "0.9035079029052513\n"
          ]
        }
      ]
    },
    {
      "cell_type": "code",
      "source": [
        "import numpy\n",
        "\n",
        "speed = [32,111,138,28,59,77,97]\n",
        "\n",
        "x = numpy.std(speed)\n",
        "\n",
        "print(x)"
      ],
      "metadata": {
        "colab": {
          "base_uri": "https://localhost:8080/"
        },
        "id": "12SZPbbF139p",
        "outputId": "f1c4cd81-2fb9-425b-d718-7c38e63431c3"
      },
      "execution_count": 6,
      "outputs": [
        {
          "output_type": "stream",
          "name": "stdout",
          "text": [
            "37.84501153334721\n"
          ]
        }
      ]
    },
    {
      "cell_type": "markdown",
      "source": [
        "#Variance\n",
        "Variance is another number that indicates how spread out the values are. If you take the square root of the variance, you get the standard deviation. Or, if you multiply the standard deviation by itself, you get the variance.\n",
        "\n",
        "`√1432.25 = 37.85`\n",
        "\n",
        "Use the NumPy var() method to find the variance:"
      ],
      "metadata": {
        "id": "50HNW4C42Hpe"
      }
    },
    {
      "cell_type": "code",
      "source": [
        "import numpy\n",
        "\n",
        "speed = [32,111,138,28,59,77,97]\n",
        "\n",
        "x = numpy.var(speed)\n",
        "\n",
        "print(x)"
      ],
      "metadata": {
        "colab": {
          "base_uri": "https://localhost:8080/"
        },
        "id": "cdCdLWkO3AuG",
        "outputId": "fa58c1ca-4b1f-4b87-fa11-f16984238651"
      },
      "execution_count": 7,
      "outputs": [
        {
          "output_type": "stream",
          "name": "stdout",
          "text": [
            "1432.2448979591834\n"
          ]
        }
      ]
    },
    {
      "cell_type": "markdown",
      "source": [
        "#Percentiles\n",
        "Percentiles are used in statistics to give you a number that describes the value that a given percent of the values are lower than.\n",
        "\n",
        "Use the NumPy percentile() method to find the percentiles:"
      ],
      "metadata": {
        "id": "mHPL4LIR3mHv"
      }
    },
    {
      "cell_type": "code",
      "source": [
        "import numpy\n",
        "\n",
        "ages = [5,31,43,48,50,41,7,11,15,39,80,82,32,2,8,6,25,36,27,61,31]\n",
        "\n",
        "x = numpy.percentile(ages, 75)\n",
        "\n",
        "print(x)"
      ],
      "metadata": {
        "colab": {
          "base_uri": "https://localhost:8080/"
        },
        "id": "f-KXh2k83sbJ",
        "outputId": "28d2d1ae-35eb-4761-e742-e5b06a6339e7"
      },
      "execution_count": 8,
      "outputs": [
        {
          "output_type": "stream",
          "name": "stdout",
          "text": [
            "43.0\n"
          ]
        }
      ]
    }
  ]
}